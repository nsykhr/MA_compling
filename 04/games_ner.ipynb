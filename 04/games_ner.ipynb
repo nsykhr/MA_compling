{
 "cells": [
  {
   "cell_type": "code",
   "execution_count": 1,
   "metadata": {},
   "outputs": [],
   "source": [
    "import pandas as pd\n",
    "pd.set_option('display.max_colwidth', -1)"
   ]
  },
  {
   "cell_type": "code",
   "execution_count": 2,
   "metadata": {},
   "outputs": [],
   "source": [
    "data = pd.read_csv('pristavki.csv', header=None, names=['text'])"
   ]
  },
  {
   "cell_type": "code",
   "execution_count": 3,
   "metadata": {},
   "outputs": [],
   "source": [
    "from yargy import Parser, rule, or_\n",
    "from yargy.predicates import in_, in_caseless, custom\n",
    "from yargy.tokenizer import MorphTokenizer\n",
    "from yargy.pipelines import morph_pipeline, caseless_pipeline\n",
    "from yargy.interpretation import fact\n",
    "from IPython.display import display"
   ]
  },
  {
   "cell_type": "code",
   "execution_count": 4,
   "metadata": {},
   "outputs": [],
   "source": [
    "game = fact(\n",
    "    'game',\n",
    "    ['franchise', 'installment']\n",
    ")"
   ]
  },
  {
   "cell_type": "code",
   "execution_count": 5,
   "metadata": {},
   "outputs": [],
   "source": [
    "import re\n",
    "\n",
    "pattern = re.compile(r'([a-z\\d]+\\s*)+', re.IGNORECASE)\n",
    "installment = custom(lambda x: re.search(pattern, x).group() if re.search(pattern, x) is not None else None)"
   ]
  },
  {
   "cell_type": "code",
   "execution_count": 6,
   "metadata": {},
   "outputs": [],
   "source": [
    "MC = rule(\n",
    "    morph_pipeline(['mortal combat', 'мортал комбат', 'mc', 'мк']).interpretation(game.franchise),\n",
    "    installment.interpretation(game.installment).optional()\n",
    ")\n",
    "NFS = rule(\n",
    "    morph_pipeline(['need for speed', 'нид фор спид', 'нид фо спид', 'nfs', 'нфс']).interpretation(game.franchise),\n",
    "    installment.interpretation(game.installment).optional()\n",
    ")\n",
    "BF = rule(\n",
    "    morph_pipeline(['battlefield', 'battle field']).interpretation(game.franchise),\n",
    "    installment.interpretation(game.installment).optional()\n",
    ")\n",
    "COD = rule(\n",
    "    morph_pipeline(['call of duty', 'cod']).interpretation(game.franchise),\n",
    "    installment.interpretation(game.installment).optional()\n",
    ")\n",
    "DS = rule(\n",
    "    morph_pipeline(['dark souls', 'demon souls', 'demon\\'s souls',\n",
    "                    'bloodborne', 'bloodborn']).interpretation(game.franchise),\n",
    "    installment.interpretation(game.installment).optional()\n",
    ")\n",
    "\n",
    "GAMES = or_(MC, NFS, BF, COD, DS).interpretation(game)\n",
    "parser = Parser(GAMES)"
   ]
  },
  {
   "cell_type": "code",
   "execution_count": 7,
   "metadata": {},
   "outputs": [],
   "source": [
    "matches = []\n",
    "\n",
    "for sent in data.text:\n",
    "    for match in parser.findall(sent):\n",
    "        matches.append(match.fact)"
   ]
  },
  {
   "cell_type": "code",
   "execution_count": 8,
   "metadata": {},
   "outputs": [
    {
     "data": {
      "text/plain": [
       "857"
      ]
     },
     "execution_count": 8,
     "metadata": {},
     "output_type": "execute_result"
    }
   ],
   "source": [
    "len(matches)"
   ]
  },
  {
   "cell_type": "code",
   "execution_count": 9,
   "metadata": {},
   "outputs": [
    {
     "name": "stdout",
     "output_type": "stream",
     "text": [
      "Mortal combat vs\n",
      "Call of Duty Ghosts\n",
      "Call of Duty 4\n",
      "Call of Duty MW\n",
      "Battlefield 3\n",
      "Need For Speed Shift\n",
      "Battlefield 4\n",
      "Battlefield\n",
      "Battlefield\n",
      "Call Of Duty\n",
      "Call Of Duty\n",
      "Need For Speed\n",
      "Battlefield 4\n",
      "мортал комбат\n",
      "nfs\n",
      "Battlefield 4\n",
      "Nfs 2016\n",
      "Battlefield 4\n",
      "Call of Duty\n",
      "Bloodborn\n",
      "Call of Duty MW\n",
      "Battlefield 3\n",
      "dark souls 3\n",
      "Demon's Souls\n",
      "Need For Speed Most\n"
     ]
    }
   ],
   "source": [
    "for m in matches[:25]:\n",
    "    if m.installment is not None:\n",
    "        print(m.franchise, m.installment)\n",
    "        continue\n",
    "    print(m.franchise)"
   ]
  },
  {
   "cell_type": "markdown",
   "metadata": {},
   "source": [
    "Вывод: код работает, однако в поле installment всегда записывается только один токен. Не очень понятно, как можно обойти это в yargy: документация по поводу функции custom весьма скудная."
   ]
  },
  {
   "cell_type": "code",
   "execution_count": null,
   "metadata": {},
   "outputs": [],
   "source": []
  }
 ],
 "metadata": {
  "kernelspec": {
   "display_name": "Python 3",
   "language": "python",
   "name": "python3"
  },
  "language_info": {
   "codemirror_mode": {
    "name": "ipython",
    "version": 3
   },
   "file_extension": ".py",
   "mimetype": "text/x-python",
   "name": "python",
   "nbconvert_exporter": "python",
   "pygments_lexer": "ipython3",
   "version": "3.6.8"
  }
 },
 "nbformat": 4,
 "nbformat_minor": 2
}
