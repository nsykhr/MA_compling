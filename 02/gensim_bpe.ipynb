{
 "cells": [
  {
   "cell_type": "code",
   "execution_count": 1,
   "metadata": {},
   "outputs": [],
   "source": [
    "import numpy as np\n",
    "from typing import *\n",
    "from string import punctuation\n",
    "from gensim.models import Phrases\n",
    "from nltk.tokenize import sent_tokenize\n",
    "\n",
    "punctuation += '«»–—'\n",
    "\n",
    "with open('anna_karenina.txt', encoding='utf-8') as f:\n",
    "    text = f.read()"
   ]
  },
  {
   "cell_type": "code",
   "execution_count": 2,
   "metadata": {},
   "outputs": [],
   "source": [
    "def tokenize(sentence: str) -> map:\n",
    "        return map(lambda x: x.strip(punctuation).replace('ё', 'е'),\n",
    "                   sentence.strip().lower().split())\n",
    "\n",
    "sentences = [[char for char in ' '.join([token for token in tokenize(sentence) if token])]\n",
    "             for sentence in sent_tokenize(text)]"
   ]
  },
  {
   "cell_type": "code",
   "execution_count": 3,
   "metadata": {},
   "outputs": [
    {
     "data": {
      "text/plain": [
       "['в',\n",
       " 'с',\n",
       " 'е',\n",
       " ' ',\n",
       " 'с',\n",
       " 'м',\n",
       " 'е',\n",
       " 'ш',\n",
       " 'а',\n",
       " 'л',\n",
       " 'о',\n",
       " 'с',\n",
       " 'ь',\n",
       " ' ',\n",
       " 'в',\n",
       " ' ',\n",
       " 'д',\n",
       " 'о',\n",
       " 'м',\n",
       " 'е',\n",
       " ' ',\n",
       " 'о',\n",
       " 'б',\n",
       " 'л',\n",
       " 'о',\n",
       " 'н',\n",
       " 'с',\n",
       " 'к',\n",
       " 'и',\n",
       " 'х']"
      ]
     },
     "execution_count": 3,
     "metadata": {},
     "output_type": "execute_result"
    }
   ],
   "source": [
    "sentences[7]"
   ]
  },
  {
   "cell_type": "code",
   "execution_count": 4,
   "metadata": {},
   "outputs": [],
   "source": [
    "def bpe(sentences: List[List[str]], num_iterations: int, return_list: bool = True) -> List[List[str]]:\n",
    "    if num_iterations == 1:\n",
    "        phrases = Phrases(sentences, min_count=10, scoring='npmi', threshold=-0.5)\n",
    "        return list(phrases[sentences]) if return_list else phrases[sentences]\n",
    "    else:\n",
    "        prev_iter_result = bpe(sentences, num_iterations-1, False)\n",
    "        phrases = Phrases(prev_iter_result, min_count=5, scoring='npmi', threshold=-0.9)\n",
    "        return list(phrases[prev_iter_result]) if return_list else phrases[prev_iter_result]"
   ]
  },
  {
   "cell_type": "code",
   "execution_count": 5,
   "metadata": {},
   "outputs": [
    {
     "data": {
      "text/plain": [
       "['в_с_е_ ',\n",
       " 'с_м_е_ш',\n",
       " 'а_л_о_с',\n",
       " 'ь_ _в_ ',\n",
       " 'д_о_м_е',\n",
       " ' _о_б_л_о_н_с_к',\n",
       " 'и_х']"
      ]
     },
     "execution_count": 5,
     "metadata": {},
     "output_type": "execute_result"
    }
   ],
   "source": [
    "bpe_result = bpe(sentences, 7)\n",
    "bpe_result[7]"
   ]
  },
  {
   "cell_type": "code",
   "execution_count": 6,
   "metadata": {},
   "outputs": [
    {
     "data": {
      "text/plain": [
       "['л_е',\n",
       " 'в_ _н_и',\n",
       " 'к_о_л_а',\n",
       " 'е_в_и_ч',\n",
       " ' _т_о_л',\n",
       " 'с_т_о_й',\n",
       " ' _а_н_н_а_ _к_а',\n",
       " 'р_е_н_и',\n",
       " 'н_а_ _м',\n",
       " 'н_е_ _о',\n",
       " 'т_м',\n",
       " 'щ_е_н_и',\n",
       " 'е_ _и_ ',\n",
       " 'а_з_ _в',\n",
       " 'о_з_д_а',\n",
       " 'м_ _ч_а',\n",
       " 'с_т_ь_ ',\n",
       " 'п_е_р_в',\n",
       " 'а_я',\n",
       " ' _i',\n",
       " ' _в_с_е',\n",
       " ' _с_ч_а_с_т_л_и',\n",
       " 'в_ы_е_ ',\n",
       " 'с_е_м_ь',\n",
       " 'и_ _п_о',\n",
       " 'х_о_ж_и',\n",
       " ' _д_р_у',\n",
       " 'г_ _н_а',\n",
       " ' _д_р_у',\n",
       " 'г_а_ _к',\n",
       " 'а_ж_д_а',\n",
       " 'я_ _н_е',\n",
       " 'с_ч_а_с_т_л_и_в',\n",
       " 'а_я_ _с',\n",
       " 'е_м_ь_я',\n",
       " ' _н_е_с_ч_а_с_т',\n",
       " 'л_и_в_а',\n",
       " ' _п_о_-',\n",
       " 'с_в_о_е',\n",
       " 'м_у']"
      ]
     },
     "execution_count": 6,
     "metadata": {},
     "output_type": "execute_result"
    }
   ],
   "source": [
    "bpe_result[6]"
   ]
  },
  {
   "cell_type": "code",
   "execution_count": null,
   "metadata": {},
   "outputs": [],
   "source": []
  }
 ],
 "metadata": {
  "kernelspec": {
   "display_name": "Python 3",
   "language": "python",
   "name": "python3"
  },
  "language_info": {
   "codemirror_mode": {
    "name": "ipython",
    "version": 3
   },
   "file_extension": ".py",
   "mimetype": "text/x-python",
   "name": "python",
   "nbconvert_exporter": "python",
   "pygments_lexer": "ipython3",
   "version": "3.6.8"
  }
 },
 "nbformat": 4,
 "nbformat_minor": 2
}
